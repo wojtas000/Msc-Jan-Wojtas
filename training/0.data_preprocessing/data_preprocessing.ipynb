{
 "cells": [
  {
   "cell_type": "code",
   "execution_count": 1,
   "metadata": {},
   "outputs": [],
   "source": [
    "%load_ext autoreload\n",
    "%autoreload 2"
   ]
  },
  {
   "cell_type": "code",
   "execution_count": 2,
   "metadata": {},
   "outputs": [],
   "source": [
    "from source.sentiment_processor import SentimentProcessor\n",
    "from source.xml_processor import XMLProcessor\n",
    "from source.translation_processor import TranslationProcessor\n",
    "from source.dataset_processor import DatasetProcessor\n",
    "from tqdm import tqdm\n",
    "\n",
    "import pandas as pd"
   ]
  },
  {
   "cell_type": "code",
   "execution_count": null,
   "metadata": {},
   "outputs": [],
   "source": [
    "s = SentimentProcessor(no_aspect=False)\n",
    "xml_processor = XMLProcessor(path='data/apa_dataset/negative.xml')\n",
    "\n",
    "for x in ['negative', 'positive', 'neutral', 'ambivalent']:\n",
    "    df = pd.read_csv(f'data/processed_dataset/{x}/articles.csv', header=None)\n",
    "    xml_processor = XMLProcessor(path=f'data/apa_dataset/{x}.xml')\n",
    "    # get values from 1st column\n",
    "    ids = df.iloc[:, 0].values\n",
    "    documents = xml_processor.process_xml()\n",
    "    sentiments = xml_processor.get_sentiments()\n",
    "    df_sent = s.process_sentiments(sentiments, ids)\n",
    "    df_sent.to_csv(f'data/processed_dataset/{x}/sentiments_with_aspect.csv', index=False)"
   ]
  },
  {
   "cell_type": "code",
   "execution_count": 122,
   "metadata": {},
   "outputs": [],
   "source": [
    "xml_processor = XMLProcessor(path='data/apa_dataset/negative.xml')\n",
    "documents = xml_processor.process_xml()"
   ]
  },
  {
   "cell_type": "code",
   "execution_count": 135,
   "metadata": {},
   "outputs": [],
   "source": [
    "from fuzzywuzzy import fuzz\n",
    "from fuzzywuzzy import process\n",
    "\n",
    "def find_entity_mentions(text, entity_name, threshold=75):\n",
    "    \"\"\"\n",
    "    Find all occurrences of an entity name in a text using fuzzy matching.\n",
    "\n",
    "    Args:\n",
    "    text (str): The text to search in.\n",
    "    entity_name (str): The entity name to search for.\n",
    "    threshold (int): The minimum matching score to consider (default is 80).\n",
    "\n",
    "    Returns:\n",
    "    list of dict: A list of dictionaries with 'startingIndex', 'endingIndex', and 'name' of each occurrence.\n",
    "    \"\"\"\n",
    "    occurrences = set()\n",
    "    words = text.split()\n",
    "    for i in range(len(words)):\n",
    "        for j in range(4):\n",
    "            phrase = ' '.join(words[i:i + j])\n",
    "            if fuzz.ratio(phrase, entity_name) >= threshold:\n",
    "                start_index = text.find(phrase)\n",
    "                end_index = start_index + len(phrase)\n",
    "                occurrences.add((start_index, end_index, phrase))\n",
    "\n",
    "    filtered_occurrences = []\n",
    "    for occ in occurrences:\n",
    "        is_contained = False\n",
    "        for other_occ in occurrences:\n",
    "            if occ != other_occ and occ[0] >= other_occ[0] and occ[1] <= other_occ[1]:\n",
    "                is_contained = True\n",
    "                break\n",
    "        if not is_contained:\n",
    "            filtered_occurrences.append(occ)\n",
    "\n",
    "    return {\n",
    "        'entity_name': entity_name,\n",
    "        'mentions': [\n",
    "            {\n",
    "                'startingIndex': occ[0],\n",
    "                'endingIndex': occ[1],\n",
    "                'name': occ[2]\n",
    "            }\n",
    "            for occ in filtered_occurrences\n",
    "        ]\n",
    "    }\n"
   ]
  }
 ],
 "metadata": {
  "kernelspec": {
   "display_name": "venv",
   "language": "python",
   "name": "python3"
  },
  "language_info": {
   "codemirror_mode": {
    "name": "ipython",
    "version": 3
   },
   "file_extension": ".py",
   "mimetype": "text/x-python",
   "name": "python",
   "nbconvert_exporter": "python",
   "pygments_lexer": "ipython3",
   "version": "3.10.12"
  }
 },
 "nbformat": 4,
 "nbformat_minor": 2
}
