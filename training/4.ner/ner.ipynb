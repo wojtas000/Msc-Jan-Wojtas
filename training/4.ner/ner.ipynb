{
 "cells": [
  {
   "cell_type": "code",
   "execution_count": 1,
   "metadata": {},
   "outputs": [],
   "source": [
    "import pandas as pd\n",
    "import autorootcwd\n",
    "from flair.data import Sentence\n",
    "from flair.models import SequenceTagger\n",
    "from tqdm import tqdm"
   ]
  },
  {
   "cell_type": "code",
   "execution_count": 2,
   "metadata": {},
   "outputs": [
    {
     "name": "stdout",
     "output_type": "stream",
     "text": [
      "2024-05-11 02:11:44,794 SequenceTagger predicts: Dictionary with 20 tags: <unk>, O, S-ORG, S-MISC, B-PER, E-PER, S-LOC, B-ORG, E-ORG, I-PER, S-PER, B-MISC, I-MISC, E-MISC, I-ORG, B-LOC, E-LOC, I-LOC, <START>, <STOP>\n"
     ]
    }
   ],
   "source": [
    "class NamedEntityRecognizer:\n",
    "    def __init__(self, tagger=SequenceTagger.load(\"flair/ner-english\")):\n",
    "        self.tagger = tagger\n",
    "\n",
    "    def get_sentences_from_article(self, article):\n",
    "        sentences = []\n",
    "        for sentence in article.split('.'):\n",
    "            sentences.append(sentence + '.')\n",
    "        return sentences\n",
    "\n",
    "    def get_named_entities(self, article):\n",
    "        length = 0\n",
    "        sentences = self.get_sentences_from_article(article)\n",
    "        named_entities = []\n",
    "        for sentence in sentences:\n",
    "            s = Sentence(sentence)\n",
    "            self.tagger.predict(s)\n",
    "            for entity in s.get_spans('ner'):\n",
    "            \n",
    "                entity = entity.to_dict(tag_type='ner')\n",
    "                entity['start_pos'] = int(entity['start_pos']) + length\n",
    "                entity['end_pos'] = int(entity['end_pos']) + length\n",
    "                named_entities.append(entity)\n",
    "            length += len(sentence)\n",
    "\n",
    "        return self.filter_entities(named_entities)\n",
    "    \n",
    "    def filter_entities(self, entities):\n",
    "        return [entity for entity in entities if entity['labels'][0]['value'] in  ['PER', 'ORG']]\n",
    "    \n",
    "    def prepare_entity_format(self, entities, article_id):\n",
    "        return pd.DataFrame([{'article_id': article_id, \n",
    "                'start_pos': entity['start_pos'], \n",
    "                'end_pos': entity['end_pos'], \n",
    "                'name': entity['text'], \n",
    "                'label': entity['labels'][0]['value'], \n",
    "                'confidence': entity['labels'][0]['confidence']} \n",
    "                for entity in entities])"
   ]
  },
  {
   "cell_type": "code",
   "execution_count": 3,
   "metadata": {},
   "outputs": [],
   "source": [
    "def save_entities(name, start_index=0, end_index=None, selected_indices=[]):\n",
    "    ner = NamedEntityRecognizer()\n",
    "    articles = pd.read_csv(f'data/processed_dataset/{name}/articles.csv', header=None)\n",
    "    articles.columns = ['id', 'text_german', 'text_english']\n",
    "    articles.fillna('', inplace=True)\n",
    "    for index, article in tqdm(articles.iterrows()):\n",
    "        if selected_indices and index not in selected_indices:\n",
    "            continue\n",
    "        if index < start_index or (end_index is not None and index >= end_index):\n",
    "            continue\n",
    "        named_entities = ner.prepare_entity_format(ner.get_named_entities(article['text_english']), article['id'])\n",
    "        named_entities.to_csv(f'data/processed_dataset/{name}/ner.csv', index=False, mode='a', header=not bool(index))\n"
   ]
  }
 ],
 "metadata": {
  "kernelspec": {
   "display_name": "Python 3",
   "language": "python",
   "name": "python3"
  },
  "language_info": {
   "codemirror_mode": {
    "name": "ipython",
    "version": 3
   },
   "file_extension": ".py",
   "mimetype": "text/x-python",
   "name": "python",
   "nbconvert_exporter": "python",
   "pygments_lexer": "ipython3",
   "version": "3.10.12"
  }
 },
 "nbformat": 4,
 "nbformat_minor": 2
}
