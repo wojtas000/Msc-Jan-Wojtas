{
 "cells": [
  {
   "cell_type": "markdown",
   "metadata": {},
   "source": [
    "# NewsMTSC"
   ]
  },
  {
   "cell_type": "code",
   "execution_count": 3,
   "metadata": {},
   "outputs": [],
   "source": [
    "import pandas as pd\n",
    "import random\n",
    "\n",
    "# Read the JSONL files into DataFrames\n",
    "negative_df = pd.read_json(\"data/processed_dataset/negative/negative_newsmtsc_s.jsonl\", lines=True)\n",
    "neutral_df = pd.read_json(\"data/processed_dataset/neutral/neutral_newsmtsc_s.jsonl\", lines=True)\n",
    "positive_df = pd.read_json(\"data/processed_dataset/positive/positive_newsmtsc_s.jsonl\", lines=True)\n",
    "\n",
    "# Combine the DataFrames into a single DataFrame\n",
    "combined_df = pd.concat([negative_df, neutral_df, positive_df])\n",
    "\n",
    "# Extract the article ID from the primary_gid\n",
    "combined_df[\"article_id\"] = combined_df[\"primary_gid\"].apply(lambda x: x.split(\"_\")[0])\n",
    "\n",
    "# Group the records by article ID\n",
    "grouped_df = combined_df.groupby(\"article_id\")\n",
    "\n",
    "# Shuffle the article IDs\n",
    "article_ids = list(grouped_df.groups.keys())\n",
    "random.seed(42)\n",
    "random.shuffle(article_ids)\n",
    "\n",
    "# Calculate the split indices\n",
    "train_split_index = int(len(article_ids) * 0.80)\n",
    "dev_split_index = int(len(article_ids) * 0.90)\n",
    "# Split the article IDs into training, development, and testing sets\n",
    "train_article_ids = article_ids[:train_split_index]\n",
    "dev_article_ids = article_ids[train_split_index:dev_split_index]\n",
    "test_article_ids = article_ids[dev_split_index:]\n",
    "\n",
    "# Create training, development, and testing DataFrames based on the article IDs\n",
    "train_df = combined_df[combined_df[\"article_id\"].isin(train_article_ids)]\n",
    "dev_df = combined_df[combined_df[\"article_id\"].isin(dev_article_ids)]\n",
    "test_df = combined_df[combined_df[\"article_id\"].isin(test_article_ids)]\n",
    "\n",
    "# Save the training, development, and testing datasets as JSONL files\n",
    "train_df.drop(\"article_id\", axis=1).to_json(\"data/processed_dataset/newsmtsc/train.jsonl\", orient=\"records\", lines=True, force_ascii=False)\n",
    "dev_df.drop(\"article_id\", axis=1).to_json(\"data/processed_dataset/newsmtsc/dev.jsonl\", orient=\"records\", lines=True, force_ascii=False)\n",
    "test_df.drop(\"article_id\", axis=1).to_json(\"data/processed_dataset/newsmtsc/test.jsonl\", orient=\"records\", lines=True, force_ascii=False)"
   ]
  },
  {
   "cell_type": "markdown",
   "metadata": {},
   "source": [
    "# ABSA-PyTorch"
   ]
  },
  {
   "cell_type": "markdown",
   "metadata": {},
   "source": [
    "### Positive, Negative and Neutral classes for 3-class problem"
   ]
  },
  {
   "cell_type": "code",
   "execution_count": 1,
   "metadata": {},
   "outputs": [],
   "source": [
    "import pandas as pd\n",
    "import random\n",
    "\n",
    "# Read the JSONL files into DataFrames\n",
    "negative_df = pd.read_json(\"data/processed_dataset/negative/negative_absa_pytorch.jsonl\", lines=True)\n",
    "neutral_df = pd.read_json(\"data/processed_dataset/neutral/neutral_absa_pytorch.jsonl\", lines=True)\n",
    "positive_df = pd.read_json(\"data/processed_dataset/positive/positive_absa_pytorch.jsonl\", lines=True)\n",
    "\n",
    "# Combine the DataFrames into a single DataFrame\n",
    "combined_df = pd.concat([negative_df, neutral_df, positive_df])\n",
    "\n",
    "# Extract the article ID from the primary_gid\n",
    "combined_df[\"article_id\"] = combined_df[\"id\"].apply(lambda x: x.split(\"_\")[0])\n",
    "\n",
    "# Group the records by article ID\n",
    "grouped_df = combined_df.groupby(\"article_id\")\n",
    "\n",
    "# Shuffle the article IDs\n",
    "article_ids = list(grouped_df.groups.keys())\n",
    "random.seed(42)\n",
    "random.shuffle(article_ids)\n",
    "\n",
    "# Calculate the split indices\n",
    "train_split_index = int(len(article_ids) * 0.80)\n",
    "dev_split_index = int(len(article_ids) * 0.90)\n",
    "\n",
    "# Split the article IDs into training, development, and testing sets\n",
    "train_article_ids = article_ids[:train_split_index]\n",
    "dev_article_ids = article_ids[train_split_index:dev_split_index]\n",
    "test_article_ids = article_ids[dev_split_index:]\n",
    "\n",
    "# Create training, development, and testing DataFrames based on the article IDs\n",
    "train_df = combined_df[combined_df[\"article_id\"].isin(train_article_ids)]\n",
    "dev_df = combined_df[combined_df[\"article_id\"].isin(dev_article_ids)]\n",
    "test_df = combined_df[combined_df[\"article_id\"].isin(test_article_ids)]"
   ]
  },
  {
   "cell_type": "markdown",
   "metadata": {},
   "source": [
    "### Ambivalent class for 4-class problem"
   ]
  },
  {
   "cell_type": "code",
   "execution_count": 2,
   "metadata": {},
   "outputs": [],
   "source": [
    "import pandas as pd\n",
    "import random\n",
    "\n",
    "# Read the JSONL files into DataFrames\n",
    "ambivalent_df = pd.read_json(\"data/processed_dataset/ambivalent/ambivalent_absa_pytorch.jsonl\", lines=True)\n",
    "\n",
    "\n",
    "# Combine the DataFrames into a single DataFrame\n",
    "combined_df = ambivalent_df\n",
    "\n",
    "# Extract the article ID from the primary_gid\n",
    "combined_df[\"article_id\"] = combined_df[\"id\"].apply(lambda x: x.split(\"_\")[0])\n",
    "\n",
    "# Group the records by article ID\n",
    "grouped_df = combined_df.groupby(\"article_id\")\n",
    "\n",
    "# Shuffle the article IDs\n",
    "article_ids = list(grouped_df.groups.keys())\n",
    "random.seed(42)\n",
    "random.shuffle(article_ids)\n",
    "\n",
    "# Calculate the split indices\n",
    "train_split_index = int(len(article_ids) * 0.80)\n",
    "dev_split_index = int(len(article_ids) * 0.90)\n",
    "\n",
    "# Split the article IDs into training, development, and testing sets\n",
    "train_article_ids = article_ids[:train_split_index]\n",
    "dev_article_ids = article_ids[train_split_index:dev_split_index]\n",
    "test_article_ids = article_ids[dev_split_index:]\n",
    "\n",
    "# Create training, development, and testing DataFrames based on the article IDs\n",
    "train_df = combined_df[combined_df[\"article_id\"].isin(train_article_ids)]\n",
    "dev_df = combined_df[combined_df[\"article_id\"].isin(dev_article_ids)]\n",
    "test_df = combined_df[combined_df[\"article_id\"].isin(test_article_ids)]"
   ]
  },
  {
   "cell_type": "code",
   "execution_count": 3,
   "metadata": {},
   "outputs": [],
   "source": [
    "# Save the training, development, and testing datasets as JSONL files\n",
    "train_df.drop(\"article_id\", axis=1).to_json(\"data/processed_dataset/pyabsa/train_a.jsonl\", orient=\"records\", lines=True, force_ascii=False)\n",
    "dev_df.drop(\"article_id\", axis=1).to_json(\"data/processed_dataset/pyabsa/dev_a.jsonl\", orient=\"records\", lines=True, force_ascii=False)\n",
    "test_df.drop(\"article_id\", axis=1).to_json(\"data/processed_dataset/pyabsa/test_a.jsonl\", orient=\"records\", lines=True, force_ascii=False)"
   ]
  },
  {
   "cell_type": "code",
   "execution_count": 10,
   "metadata": {},
   "outputs": [],
   "source": [
    "import pandas as pd\n",
    "from sklearn.model_selection import train_test_split\n",
    "from sklearn.metrics import accuracy_score, precision_score, recall_score, f1_score\n",
    "from xgboost import XGBClassifier\n",
    "from sklearn.ensemble import RandomForestClassifier\n",
    "from sklearn.svm import SVC"
   ]
  },
  {
   "cell_type": "code",
   "execution_count": null,
   "metadata": {},
   "outputs": [],
   "source": [
    "positive_embeddings_df = pd.read_csv('data/processed_dataset/positive/embeddings.csv', header=None)\n",
    "negative_embeddings_df = pd.read_csv('data/processed_dataset/negative/embeddings.csv', header=None)\n",
    "neutral_embeddings_df = pd.read_csv('data/processed_dataset/neutral/embeddings.csv', header=None)\n",
    "\n",
    "# add \n",
    "\n",
    "train_indices = train_df.index\n",
    "dev_indices = dev_df.index\n",
    "test_indices = test_df.index\n",
    "combined_embeddings = pd.concat([negative_df, neutral_df, positive_df])\n",
    "# Select embeddings for training set\n",
    "train_embeddings = combined_embeddings[train_indices]"
   ]
  },
  {
   "cell_type": "code",
   "execution_count": null,
   "metadata": {},
   "outputs": [],
   "source": [
    "# Read the embeddings.csv files for each class\n",
    "positive_df = pd.read_csv('data/processed_dataset/positive/embeddings.csv', header=None)\n",
    "negative_df = pd.read_csv('data/processed_dataset/negative/embeddings.csv', header=None)\n",
    "neutral_df = pd.read_csv('data/processed_dataset/neutral/embeddings.csv', header=None)\n",
    "\n",
    "# Add class labels to each DataFrame\n",
    "positive_df['label'] = 2\n",
    "negative_df['label'] = 0\n",
    "neutral_df['label'] = 1\n",
    "\n",
    "# Merge the DataFrames\n",
    "merged_df = pd.concat([positive_df, negative_df, neutral_df], ignore_index=True)\n",
    "\n",
    "# Split the merged DataFrame into features (X) and labels (y)\n",
    "X = merged_df.drop('label', axis=1)\n",
    "y = merged_df['label']\n",
    "\n",
    "# Create train-test split with 80% train and 20% test data, and a fixed random seed\n",
    "X_train, X_test, y_train, y_test = train_test_split(X, y, test_size=0.2, random_state=42)\n",
    "\n",
    "# Define the classifiers\n",
    "classifiers = {\n",
    "    'XGBoost': XGBClassifier(random_state=42),\n",
    "    'Random Forest': RandomForestClassifier(random_state=42),\n",
    "    'SVM': SVC(random_state=42)\n",
    "    }"
   ]
  }
 ],
 "metadata": {
  "kernelspec": {
   "display_name": "venv",
   "language": "python",
   "name": "python3"
  },
  "language_info": {
   "codemirror_mode": {
    "name": "ipython",
    "version": 3
   },
   "file_extension": ".py",
   "mimetype": "text/x-python",
   "name": "python",
   "nbconvert_exporter": "python",
   "pygments_lexer": "ipython3",
   "version": "3.10.12"
  }
 },
 "nbformat": 4,
 "nbformat_minor": 2
}
